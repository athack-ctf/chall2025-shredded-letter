{
 "cells": [
  {
   "cell_type": "markdown",
   "id": "64f42197-8dc9-464e-ae8a-73fe3e2a2ef7",
   "metadata": {},
   "source": [
    "# Aligning Letters"
   ]
  },
  {
   "cell_type": "code",
   "execution_count": 1,
   "id": "1f43f938-1ed5-4b7e-a1a1-c3edf546dde4",
   "metadata": {},
   "outputs": [],
   "source": [
    "import json\n",
    "import pytrie\n",
    "from itertools import permutations\n",
    "import re\n",
    "import random\n",
    "import requests\n",
    "import tempfile"
   ]
  },
  {
   "cell_type": "code",
   "execution_count": 2,
   "id": "03fbc42d-eedb-4b42-a4bb-d051fd0e8000",
   "metadata": {},
   "outputs": [],
   "source": [
    "with open(\"./out/letters_matrix.json\", 'r') as jf:\n",
    "    letters_matrix = json.load(jf)"
   ]
  },
  {
   "cell_type": "markdown",
   "id": "4bb834eb-7960-4311-9e36-a5f4cf13f862",
   "metadata": {},
   "source": [
    "## Find the 4 starting columns of the letter\n",
    "**Filter:** The first 4 columns of the letter have to have no space or punctuation character within them. That is based on the hint that Dr Dexter always makes sure that every line of any letter he write starts with at words that are at least 4 letters long."
   ]
  },
  {
   "cell_type": "code",
   "execution_count": 3,
   "id": "8bfd06a8-d001-4fbd-8825-3d3905771a19",
   "metadata": {},
   "outputs": [],
   "source": [
    "def is_likely_a_starting_column(col):\n",
    "    for char in col:\n",
    "        if char in [\" \", \".\", \",\"]:\n",
    "            return False\n",
    "    return True"
   ]
  },
  {
   "cell_type": "code",
   "execution_count": 4,
   "id": "432f3bdf-dd1c-45d7-b356-967f4c24d6eb",
   "metadata": {},
   "outputs": [],
   "source": [
    "def find_all_likely_starting_columns_indices(letters_matrix=letters_matrix):\n",
    "    indices = set()\n",
    "    for idx, col in enumerate(letters_matrix):\n",
    "        if is_likely_a_starting_column(col):\n",
    "            indices.add(idx)\n",
    "    return indices"
   ]
  },
  {
   "cell_type": "code",
   "execution_count": 5,
   "id": "df94f34e-35ca-4cd5-b86c-02c5f9d250dc",
   "metadata": {},
   "outputs": [],
   "source": [
    "scols_indices = find_all_likely_starting_columns_indices()"
   ]
  },
  {
   "cell_type": "code",
   "execution_count": 6,
   "id": "eb87ea81-d0ec-49ec-9cb6-8a35f8f95c1d",
   "metadata": {},
   "outputs": [
    {
     "data": {
      "text/plain": [
       "{26, 47, 54, 69}"
      ]
     },
     "execution_count": 6,
     "metadata": {},
     "output_type": "execute_result"
    }
   ],
   "source": [
    "scols_indices"
   ]
  },
  {
   "cell_type": "markdown",
   "id": "58f554f3-9ee9-4233-85e9-8fccf75bf842",
   "metadata": {},
   "source": [
    "## Finding the right permutation of the starting columns\n",
    "**Trick:** The 4 starting columns have to all be a valid english word prefix."
   ]
  },
  {
   "cell_type": "code",
   "execution_count": 7,
   "id": "dd641e69-50b4-460d-ab55-23f814ad12d7",
   "metadata": {},
   "outputs": [],
   "source": [
    "#english_words_file = 'words_alpha.txt'"
   ]
  },
  {
   "cell_type": "code",
   "execution_count": 8,
   "id": "c5c1208a-27d8-4858-a9e7-6302a5525b0d",
   "metadata": {},
   "outputs": [],
   "source": [
    "def load_words_alpha_corpus():\n",
    "    url = \"https://github.com/dwyl/english-words/raw/refs/heads/master/words_alpha.txt\"\n",
    "\n",
    "    with requests.get(url, stream=True) as response:\n",
    "        response.raise_for_status()  # Ensure successful download\n",
    "        with tempfile.NamedTemporaryFile(delete=False, mode='w+', encoding='utf-8') as tmp_file:\n",
    "            for chunk in response.iter_content(chunk_size=8192):\n",
    "                tmp_file.write(chunk.decode())  # Decode bytes to string\n",
    "            \n",
    "            english_words_file = tmp_file.name  # Save file path before closing\n",
    "\n",
    "    # Load corpus directly\n",
    "    with open(english_words_file, 'r', encoding='utf-8') as file:\n",
    "        wordlist = [line.strip() for line in file.readlines()]\n",
    "    \n",
    "    return wordlist\n",
    "\n",
    "words_alpha_corpus = load_words_alpha_corpus()\n",
    "\n",
    "def build_trie(corpus=words_alpha_corpus):\n",
    "    trie = pytrie.Trie()\n",
    "    for word in corpus:\n",
    "        trie[word] = True\n",
    "    return trie\n",
    "\n",
    "# Build the trie index\n",
    "trie = build_trie()\n",
    "\n",
    "_prefix_cach = {}\n",
    "\n",
    "def prefix_match(prefix, lower=True, trie=trie):\n",
    "    if lower:\n",
    "        prefix = prefix.lower()\n",
    "    if prefix in _prefix_cach:\n",
    "        return _prefix_cach[prefix]\n",
    "    else:\n",
    "        prefix_tuple = tuple(prefix)\n",
    "        _prefix_cach[prefix] = set([\"\".join(word) for word in trie.keys(prefix_tuple) if ''.join(word).startswith(prefix)])\n",
    "        return _prefix_cach[prefix]\n",
    "\n",
    "def prefix_is_valid(prefix, trie=trie):\n",
    "    return len(prefix_match(prefix, trie=trie)) > 0"
   ]
  },
  {
   "cell_type": "code",
   "execution_count": 9,
   "id": "b654fe49-48a0-4da9-9b32-fea6c73c1f4a",
   "metadata": {},
   "outputs": [],
   "source": [
    "def all_prefixes_are_valid(prefixes, print_invalid_prefix=False):\n",
    "    if len(prefixes) == 0:\n",
    "        raise Exception(\"Empty prefixes\")\n",
    "    for p in prefixes:\n",
    "        if not prefix_is_valid(p):\n",
    "            if print_invalid_prefix:\n",
    "                print(f\"INVALID_PREFIX: {p}\")\n",
    "            return False\n",
    "    return True"
   ]
  },
  {
   "cell_type": "code",
   "execution_count": 10,
   "id": "d2898873-545b-4a6d-810b-4203a84833f4",
   "metadata": {},
   "outputs": [],
   "source": [
    "def identify_starting_permutation(likely_scols_indices=scols_indices):\n",
    "    starting_perms = []\n",
    "    # All possible permutations of length 4 for the starting columns indices\n",
    "    perms = list(permutations(likely_scols_indices, 4))\n",
    "\n",
    "    # Evaluate each permutation: if all words in the colum are valid prefixes, we retain the permutation\n",
    "    for perm in perms:\n",
    "        prefixes = [\"\" for _ in range(32)]\n",
    "        for colidx in perm:\n",
    "            for i in range(len(letters_matrix[0])):\n",
    "                prefixes[i] += letters_matrix[colidx][i]\n",
    "        if all_prefixes_are_valid(prefixes):\n",
    "            starting_perms.append(perm)\n",
    "    return starting_perms"
   ]
  },
  {
   "cell_type": "code",
   "execution_count": 11,
   "id": "cfd65e70-8b36-40c8-938c-a16d9516db5a",
   "metadata": {},
   "outputs": [
    {
     "data": {
      "text/plain": [
       "{26, 47, 54, 69}"
      ]
     },
     "execution_count": 11,
     "metadata": {},
     "output_type": "execute_result"
    }
   ],
   "source": [
    "scols_indices"
   ]
  },
  {
   "cell_type": "code",
   "execution_count": 12,
   "id": "394aa406-fdff-4f8b-943e-901db2947188",
   "metadata": {},
   "outputs": [],
   "source": [
    "starting_permutations = identify_starting_permutation(scols_indices)"
   ]
  },
  {
   "cell_type": "code",
   "execution_count": 13,
   "id": "29e30a1d-1fdf-40eb-926e-379ddf3516c1",
   "metadata": {},
   "outputs": [
    {
     "data": {
      "text/plain": [
       "[(54, 26, 69, 47)]"
      ]
     },
     "execution_count": 13,
     "metadata": {},
     "output_type": "execute_result"
    }
   ],
   "source": [
    "starting_permutations"
   ]
  },
  {
   "cell_type": "code",
   "execution_count": 14,
   "id": "3bc264dd-545c-41c9-850b-7c1a717e16bb",
   "metadata": {},
   "outputs": [],
   "source": [
    "if(len(starting_permutations) > 1):\n",
    "    raise Exception(\"More than one valid permutation for starting columns was detected\")"
   ]
  },
  {
   "cell_type": "markdown",
   "id": "1893bb7d-62f1-4a9a-81ef-768d493d14d1",
   "metadata": {},
   "source": [
    "## Rebuilding the rest of the columns"
   ]
  },
  {
   "cell_type": "code",
   "execution_count": 15,
   "id": "b1eb5569-6bf9-45ca-a2c8-59501ef7b580",
   "metadata": {},
   "outputs": [],
   "source": [
    "sorted_cols = list(starting_permutations[0])"
   ]
  },
  {
   "cell_type": "code",
   "execution_count": 16,
   "id": "3e4f8fce-c79b-45e7-81fd-bc84a127550c",
   "metadata": {},
   "outputs": [
    {
     "data": {
      "text/plain": [
       "[54, 26, 69, 47]"
      ]
     },
     "execution_count": 16,
     "metadata": {},
     "output_type": "execute_result"
    }
   ],
   "source": [
    "sorted_cols"
   ]
  },
  {
   "cell_type": "code",
   "execution_count": 17,
   "id": "61760234-5b00-4dfc-a585-15102e462a17",
   "metadata": {},
   "outputs": [],
   "source": [
    "all_remaining_cols_indices = [idx for idx, _ in enumerate(letters_matrix) if idx not in sorted_cols]"
   ]
  },
  {
   "cell_type": "code",
   "execution_count": 18,
   "id": "4f547d71-2c0b-4f2a-a617-b1387278f5a2",
   "metadata": {},
   "outputs": [],
   "source": [
    "def split_into_words(strings):\n",
    "    words = set()\n",
    "    for s in strings:\n",
    "        words.update(re.split(r'[ .,]+', s))  # Split on space, dot, or comma\n",
    "    words.discard('')  # Remove empty strings if any\n",
    "    return words"
   ]
  },
  {
   "cell_type": "code",
   "execution_count": 19,
   "id": "207dc5a7-c349-4754-b815-820d14b5ab94",
   "metadata": {},
   "outputs": [],
   "source": [
    "def sort_by_column_spaces(int_array, char_matrix):\n",
    "    return sorted(int_array, key=lambda i: sum(char_matrix[i][idx] in [' '] for idx in range(len(char_matrix[0]))))"
   ]
  },
  {
   "cell_type": "code",
   "execution_count": 20,
   "id": "2b14753a-ec5e-44ad-a1d4-08d56b8ee09e",
   "metadata": {},
   "outputs": [],
   "source": [
    "def solve(starting_indices, remaining_indices):\n",
    "    if len(remaining_indices) == 0:\n",
    "        return (True, starting_indices)\n",
    "    possible_next = []\n",
    "    random.shuffle(remaining_indices)\n",
    "    for idx in remaining_indices:\n",
    "        rows = [\"\" for _ in range(32)]\n",
    "        for sidx in starting_indices:\n",
    "            for i in range(len(letters_matrix[0])):\n",
    "                rows[i] += letters_matrix[sidx][i]\n",
    "                \n",
    "        for i in range(len(letters_matrix[0])):\n",
    "            rows[i] += letters_matrix[idx][i]\n",
    "            \n",
    "        \n",
    "        if all(prefix_is_valid(w) for w in split_into_words(rows)):\n",
    "            possible_next.append(idx)\n",
    "            \n",
    "    if len(possible_next) == 0:\n",
    "        return (False, None)\n",
    "        \n",
    "    # print(\"Possible next first row: \" +( \",\".join([letters_matrix[p][0] for p in possible_next])))\n",
    "    # print(\"---\")\n",
    "\n",
    "    possible_next = sort_by_column_spaces(possible_next, letters_matrix)\n",
    "    for pn in possible_next:\n",
    "        next_starting_indices = starting_indices.copy()\n",
    "        next_starting_indices.append(pn)\n",
    "\n",
    "        # print(next_starting_indices)\n",
    "\n",
    "        if random.randint(1, 1024) == 1:\n",
    "            # Printing the first two lines for debugging\n",
    "            for line in range(5):\n",
    "                print(\"\".join(letters_matrix[nidx][line] for nidx in next_starting_indices))\n",
    "            print(\"---\")\n",
    "\n",
    "        next_remaining_indices = remaining_indices.copy()\n",
    "        next_remaining_indices.remove(pn)\n",
    "\n",
    "        out = solve(next_starting_indices, next_remaining_indices)\n",
    "        if out[0] == True:\n",
    "            return out\n",
    "    return (False, None)"
   ]
  },
  {
   "cell_type": "code",
   "execution_count": 21,
   "id": "6e2f42fb-482f-43f6-a23b-5981c486314c",
   "metadata": {},
   "outputs": [],
   "source": [
    "results = solve(sorted_cols, all_remaining_cols_indices)"
   ]
  },
  {
   "cell_type": "markdown",
   "id": "6347648d-9e41-4b2b-a627-84addff8e6ae",
   "metadata": {},
   "source": [
    "# Dr. DEXTERS'S LETTER"
   ]
  },
  {
   "cell_type": "code",
   "execution_count": 22,
   "id": "6a576503-6dad-4934-b691-5ea717011997",
   "metadata": {},
   "outputs": [],
   "source": [
    "def matrix_to_text(seq, m):\n",
    "    txt = \"\"\n",
    "    for y in range(len(m[0])):\n",
    "        for idx in seq:\n",
    "            txt += m[idx][y]\n",
    "        txt+=\"\\n\"\n",
    "    return txt"
   ]
  },
  {
   "cell_type": "code",
   "execution_count": 23,
   "id": "b7f248e4-80c3-4a83-aa50-2784d7132f8f",
   "metadata": {},
   "outputs": [],
   "source": [
    "reconstructed_letter = matrix_to_text(results[1], letters_matrix)"
   ]
  },
  {
   "cell_type": "code",
   "execution_count": 24,
   "id": "cd509e6c-145c-4562-9bb7-17e607bd51f3",
   "metadata": {},
   "outputs": [
    {
     "name": "stdout",
     "output_type": "stream",
     "text": [
      "DEAR STUDENT OF MINE                                                                                \n",
      "UNCOMMON AS IT IS FOR SOMEONE LIKE ME TO ADMIT ANY FAULT  BUT I FIND MYSELF IN A PECULIAR POSITION  \n",
      "ALAS. THERE WAS A TIME  NOT SO LONG AGO  WHEN I LOOKED AT YOUR WORK WITH DISDAIN  WHEN I SAW IT AS  \n",
      "LITTLE MORE THAN A MISGUIDED  FRIVOLOUS EXPERIMENT WITH NO REAL MERIT OR VALUE. IN MY ARROGANCE  I  \n",
      "THOUGHT YOUR PROJECT WAS DESTINED TO FAIL  A FUTILE EXERCISE IN FUTILITY. PERHAPS  I WAS TOO QUICK  \n",
      "DISMISSING IT  TOO BLINDED BY MY OWN CONFIDENCE IN MY UNDERSTANDING OF THESE MATTERS. PROTONS, OR   \n",
      "PROTEINS  THE VERY CORE OF THE IDEAS YOU WERE GRAPPLING WITH  I THOUGHT WERE BEYOND YOUR REACH.     \n",
      "CERTAINLY  YOU LACKED THE SKILL TO MAKE ANY SENSE OF THESE COMPLEX CONCEPTS  LET ALONE MASTER THEM. \n",
      "HOWEVER  IN HINDSIGHT  I SEE I WAS MISTAKEN. HERE WE ARE  AND I MUST ADMIT  AGAINST ALL MY          \n",
      "EXPECTATIONS  YOU HAVE DONE IT. THE RESULTS ARE IMPRESSIVE  IN THEIR OWN RIGHT  THOUGH I AM NOT     \n",
      "EASY TO SHOW ANY KIND OF ENTHUSIASM OR APPROVAL. BUT I WILL SAY THAT YOU HAVE PROVEN ME WRONG  AND  \n",
      "THAT  IN ITSELF  IS NO SMALL FEAT.                                                                  \n",
      "WHAT I ONCE THOUGHT IMPOSSIBLE  YOU HAVE ACHIEVED  AND FOR THAT  I SUPPOSE I OWE YOU AN APOLOGY. I  \n",
      "SHOULD HAVE BEEN MORE OPEN TO THE POTENTIAL OF YOUR WORK  EVEN IF IT SEEMED ILLOGICAL AT FIRST. I   \n",
      "BLINDED BY MY OWN ARROGANCE  I WAS UNABLE TO RECOGNIZE WHAT YOU WERE CAPABLE OF. HOWEVER  IN        \n",
      "HINDSIGHT  I CAN NOT HELP BUT WONDER IF THE LACK OF SUPPORT DURING THAT CRUCIAL MOMENT HELD YOU BACK\n",
      "MORE THAN I INTENDED.                                                                               \n",
      "THERE WAS SOMEONE ELSE  OF COURSE  WHO SEEMED MORE EAGER TO CLAIM THE CREDITS FOR YOUR IDEAS. I WILL\n",
      "MENTION NO NAME  BUT IT IS CLEAR TO ME NOW THAT I DID MISJUDGE THE SITUATION. IT IS NOT THAT  I WAS \n",
      "WRONG ABOUT THE RISKS  IT IS JUST THAT YOU  IN YOUR PERSISTENCE  WERE ABLE TO TURN THOSE RISKS INTO \n",
      "SOMETHING WORTHWHILE. AND FOR THAT  YOU DESERVE RECOGNITION.                                        \n",
      "START BY LOOKING AT THE FIRST WORD OF EVERY PARAGRAPH. TAKE THESE WORDS AND CONCATENATE THEM  USING \n",
      "UNDERSCORES AS SEPARATORS. ONCE YOU HAVE GATHERED THEM  WRAP THE STRING IN CURLY BRACKETS. FINALLY  \n",
      "FORGET NOT TO ADD THE USUAL PREFIX  THE ONE THAT REMINDS YOU OF THE BEST ONE OF THE BEST CYBER      \n",
      "SECURITY COMPETITIONS THAT EVER HAPPENED IN CANADA. SHOULD YOU FOLLOW THIS METHOD  YOU WILL         \n",
      "OBTAIN THE SECRET YOU HAVE COME LOOKING FOR. IT IS A FLAG I WILL PROBABLY SHRED LATER  OUT OF       \n",
      "REGRETTING HAVING REGRETS.                                                                          \n",
      "THIS IS NOT AN EASY THING FOR ME TO SAY  BUT PERHAPS YOU HAVE EARNED IT. I WILL LEAVE IT TO YOU TO  \n",
      "DECIDE WHETHER MY ACKNOWLEDGMENT MEANS ANYTHING. IN ALL CASES  I TRUST YOU WILL CONTINUE YOUR LABOR \n",
      "EVEN IF YOU CHOOSE TO DISREGARD MY GUIDANCE IN THE FUTURE. AFTER ALL  I HAVE ALREADY SEEN WHAT YOU  \n",
      "COULD BE CAPABLE OF.                                                                                \n",
      "DOCTOR. DEXTER.                                                                                     \n",
      "\n"
     ]
    }
   ],
   "source": [
    "print(reconstructed_letter)"
   ]
  },
  {
   "cell_type": "code",
   "execution_count": 25,
   "id": "bee76fb0-4d85-4894-8108-058a47bdc3c5",
   "metadata": {},
   "outputs": [],
   "source": [
    "with open(\"./out/reconstructed_letter.txt\", 'w') as f:\n",
    "    f.write(reconstructed_letter)"
   ]
  },
  {
   "cell_type": "code",
   "execution_count": null,
   "id": "69455f1f-7ceb-4b12-8b81-9b8f8a1123bc",
   "metadata": {},
   "outputs": [],
   "source": []
  }
 ],
 "metadata": {
  "kernelspec": {
   "display_name": "Python 3 (ipykernel)",
   "language": "python",
   "name": "python3"
  },
  "language_info": {
   "codemirror_mode": {
    "name": "ipython",
    "version": 3
   },
   "file_extension": ".py",
   "mimetype": "text/x-python",
   "name": "python",
   "nbconvert_exporter": "python",
   "pygments_lexer": "ipython3",
   "version": "3.10.12"
  }
 },
 "nbformat": 4,
 "nbformat_minor": 5
}
