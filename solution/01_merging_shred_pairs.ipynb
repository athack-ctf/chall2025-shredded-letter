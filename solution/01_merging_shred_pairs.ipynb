{
 "cells": [
  {
   "cell_type": "code",
   "execution_count": 1,
   "id": "initial_id",
   "metadata": {
    "is_executing": true
   },
   "outputs": [],
   "source": [
    "from PIL import Image\n",
    "import os\n",
    "import json"
   ]
  },
  {
   "cell_type": "code",
   "execution_count": 2,
   "id": "406d1426-18f7-4c76-ac10-dbdbf0f59b5c",
   "metadata": {},
   "outputs": [],
   "source": [
    "VERTICAL_LETTERS = 32"
   ]
  },
  {
   "cell_type": "markdown",
   "id": "910466f9f6326846",
   "metadata": {},
   "source": [
    "# Loading Shreds"
   ]
  },
  {
   "cell_type": "code",
   "execution_count": 3,
   "id": "b0f4e1db908b2b79",
   "metadata": {
    "ExecuteTime": {
     "end_time": "2025-01-26T18:26:26.489226933Z",
     "start_time": "2025-01-26T18:26:26.461145662Z"
    }
   },
   "outputs": [],
   "source": [
    "def load_shreds(directory=\"./shreds\", start_idx=0, end_idx=199):\n",
    "    images = []\n",
    "    for idx in range(start_idx, end_idx + 1):\n",
    "        file_path = os.path.join(directory, f\"shred_{idx}.bmp\")\n",
    "        with Image.open(file_path) as img:\n",
    "            images.append((idx, img.copy()))\n",
    "\n",
    "    return images"
   ]
  },
  {
   "cell_type": "code",
   "execution_count": 4,
   "id": "4042820972ee9eb3",
   "metadata": {
    "ExecuteTime": {
     "end_time": "2025-01-26T18:26:27.732688340Z",
     "start_time": "2025-01-26T18:26:27.511595269Z"
    }
   },
   "outputs": [],
   "source": [
    "shreds = load_shreds()"
   ]
  },
  {
   "cell_type": "markdown",
   "id": "864e177d018b508b",
   "metadata": {},
   "source": [
    "## Classifying shreds"
   ]
  },
  {
   "cell_type": "code",
   "execution_count": 5,
   "id": "300d22b2772cd1b6",
   "metadata": {
    "ExecuteTime": {
     "end_time": "2025-01-26T18:26:37.305721293Z",
     "start_time": "2025-01-26T18:26:37.300312756Z"
    }
   },
   "outputs": [],
   "source": [
    "def grayscale_distance(pixel1, pixel2):\n",
    "    gray1 = sum(pixel1[:3]) / 3\n",
    "    gray2 = sum(pixel2[:3]) / 3\n",
    "    return abs(gray1 - gray2)\n",
    "\n",
    "def is_white(pixel, threshold=224):\n",
    "    return grayscale_distance(pixel, (255, 255, 255)) > threshold\n",
    "\n",
    "\n",
    "def is_black(pixel, threshold=224):\n",
    "    return not is_white(pixel, threshold=threshold)"
   ]
  },
  {
   "cell_type": "code",
   "execution_count": 6,
   "id": "bd64f20d3bd3eef8",
   "metadata": {
    "ExecuteTime": {
     "end_time": "2025-01-24T00:22:28.806549Z",
     "start_time": "2025-01-24T00:22:28.803404Z"
    }
   },
   "outputs": [],
   "source": [
    "def classify_shred(shred):\n",
    "    # Get pixel data\n",
    "    pixels = list(shred.getdata())\n",
    "    width, height = shred.size\n",
    "\n",
    "    # Check leftmost column\n",
    "    for y in range(height):\n",
    "        pixel = pixels[y * width]\n",
    "        if is_white(pixel):\n",
    "            break\n",
    "    else:\n",
    "        return 'left'  # All leftmost pixels are white\n",
    "\n",
    "    # Check rightmost column\n",
    "    for y in range(height):\n",
    "        pixel = pixels[y * width + (width - 1)]\n",
    "        if is_white(pixel):\n",
    "            break\n",
    "    else:\n",
    "        return 'right'  # All rightmost pixels are white\n",
    "\n",
    "    return 'unknown'  # Shouldn't happen"
   ]
  },
  {
   "cell_type": "code",
   "execution_count": 7,
   "id": "d373522c54c9c359",
   "metadata": {
    "ExecuteTime": {
     "end_time": "2025-01-24T00:22:29.047853Z",
     "start_time": "2025-01-24T00:22:29.044129Z"
    }
   },
   "outputs": [],
   "source": [
    "# assert classify_shred(shreds[1][1]) == \"left\""
   ]
  },
  {
   "cell_type": "code",
   "execution_count": 8,
   "id": "233eb74959ce2f0d",
   "metadata": {
    "ExecuteTime": {
     "end_time": "2025-01-26T18:31:54.059266159Z",
     "start_time": "2025-01-26T18:31:54.013204158Z"
    }
   },
   "outputs": [],
   "source": [
    "# assert classify_shred(shreds[0][1]) == \"right\""
   ]
  },
  {
   "cell_type": "code",
   "execution_count": 9,
   "id": "9efbcc541a9ed4b6",
   "metadata": {
    "ExecuteTime": {
     "end_time": "2025-01-24T00:22:30.169858Z",
     "start_time": "2025-01-24T00:22:29.827Z"
    }
   },
   "outputs": [],
   "source": [
    "left_shreds = [(idx, shred) for idx, shred in shreds if classify_shred(shred) == 'left']\n",
    "right_shreds = [(idx, shred) for idx, shred in shreds if classify_shred(shred) == 'right']\n",
    "unknown_shreds = [(idx, shred) for idx, shred in shreds if classify_shred(shred) == 'unknown']"
   ]
  },
  {
   "cell_type": "code",
   "execution_count": 10,
   "id": "c49b2f0338318584",
   "metadata": {
    "ExecuteTime": {
     "end_time": "2025-01-24T00:22:30.176892Z",
     "start_time": "2025-01-24T00:22:30.173795Z"
    }
   },
   "outputs": [],
   "source": [
    "assert len(left_shreds) == 100\n",
    "assert len(right_shreds) == 100\n",
    "assert len(unknown_shreds) == 0"
   ]
  },
  {
   "cell_type": "markdown",
   "id": "96fa4e1706a23a39",
   "metadata": {},
   "source": [
    "## Reconstructing columns \n",
    "**column**: a merged pair of shred forming a column of letters"
   ]
  },
  {
   "cell_type": "code",
   "execution_count": 11,
   "id": "1c34dd36d67d8bf2",
   "metadata": {
    "ExecuteTime": {
     "end_time": "2025-01-24T00:22:31.295645Z",
     "start_time": "2025-01-24T00:22:31.290555Z"
    }
   },
   "outputs": [],
   "source": [
    "def get_left_pixel(pixels, row, width):\n",
    "    return pixels[row * width]\n",
    "\n",
    "\n",
    "def get_right_pixel(pixels, row, width):\n",
    "    return pixels[row * width + (width - 1)]\n",
    "\n",
    "\n",
    "def hamming_distance(str1, str2):\n",
    "    if len(str1) != len(str2):\n",
    "        raise ValueError(\"Strings must be of equal length\")\n",
    "    return sum(char1 != char2 for char1, char2 in zip(str1, str2))\n",
    "\n",
    "\n",
    "def shred_similarity(shred_a, shred_b, threshold=2):\n",
    "    # Dimensions\n",
    "    width_a, height = shred_a.size\n",
    "    width_b, _ = shred_b.size\n",
    "    # Get pixel data\n",
    "    pixels_a_shred = list(shred_a.getdata())\n",
    "    pixels_b_shred = list(shred_b.getdata())\n",
    "\n",
    "    left = \"\"\n",
    "    right = \"\"\n",
    "    for y in range(height):\n",
    "        # get the left pixel from the right shred\n",
    "        pixel_left = get_right_pixel(pixels_a_shred, y, width=width_a)\n",
    "        # get the right pixel from the left shred\n",
    "        pixel_right = get_left_pixel(pixels_b_shred, y, width=width_b)\n",
    "\n",
    "        right += \"0\" if is_white(pixel_left) else \"1\"\n",
    "        left += \"0\" if is_white(pixel_right) else \"1\"\n",
    "\n",
    "    letter_distances = []\n",
    "    vertical_pixels = int(height / VERTICAL_LETTERS)\n",
    "    for letter_idx in range(VERTICAL_LETTERS):\n",
    "        start = letter_idx * vertical_pixels\n",
    "        end = (letter_idx + 1) * vertical_pixels\n",
    "        hdist = hamming_distance(left[start:end], right[start:end])\n",
    "        letter_distances.append(hdist)\n",
    "\n",
    "    sim = sum(list(map(lambda d: 1 if d < threshold else 0, letter_distances)))\n",
    "    return sim"
   ]
  },
  {
   "cell_type": "code",
   "execution_count": 12,
   "id": "5f5d63827c85ea14",
   "metadata": {
    "ExecuteTime": {
     "end_time": "2025-01-24T00:22:32.877385Z",
     "start_time": "2025-01-24T00:22:32.874109Z"
    }
   },
   "outputs": [],
   "source": [
    "def match_shred_pairs(l_shreds, r_shreds):\n",
    "    matches = []\n",
    "    lshreds_copy = l_shreds.copy()\n",
    "    rshreds_copy = r_shreds.copy()\n",
    "\n",
    "    for rshred in rshreds_copy:\n",
    "        similarities = []\n",
    "        for lshred in lshreds_copy:\n",
    "            sim = shred_similarity(lshred[1], rshred[1])\n",
    "            similarities.append((lshred, rshred, sim))\n",
    "\n",
    "        match = max(similarities, key=lambda x: x[2])\n",
    "        lshreds_copy.remove(match[0])\n",
    "        matches.append((match[0],match[1]))\n",
    "\n",
    "    return matches"
   ]
  },
  {
   "cell_type": "code",
   "execution_count": 13,
   "id": "7be41ea4cddff512",
   "metadata": {
    "ExecuteTime": {
     "end_time": "2025-01-24T00:22:33.472900Z",
     "start_time": "2025-01-24T00:22:33.469717Z"
    }
   },
   "outputs": [],
   "source": [
    "def merge_shred_pair(shred_left, shred_right):\n",
    "    # Ensure the images have the same height\n",
    "    if shred_left.height != shred_right.height:\n",
    "        raise ValueError(\"The images must have the same height to merge them.\")\n",
    "\n",
    "    # Create a new image with a width equal to the sum of the widths and the same height\n",
    "    merged_width = shred_left.width + shred_right.width\n",
    "    merged_height = shred_left.height\n",
    "    merged_image = Image.new(\"RGB\", (merged_width, merged_height))\n",
    "\n",
    "    # Paste the two images into the new image\n",
    "    merged_image.paste(shred_left, (0, 0))\n",
    "    merged_image.paste(shred_right, (shred_left.width, 0))\n",
    "\n",
    "    return merged_image"
   ]
  },
  {
   "cell_type": "code",
   "execution_count": 14,
   "id": "c6c50c957df4b0f5",
   "metadata": {
    "ExecuteTime": {
     "end_time": "2025-01-24T00:22:33.809307Z",
     "start_time": "2025-01-24T00:22:33.806063Z"
    }
   },
   "outputs": [],
   "source": [
    "def export_shred_pairs(\n",
    "        pairs,\n",
    "        shred_pairs_dir,\n",
    "        pair_indices_json_path,\n",
    "        to_basename=lambda lidx_ridx: f\"merged_{lidx_ridx[0]}_{lidx_ridx[1]}.bmp\"\n",
    "):\n",
    "    for (lidx, left_shred), (ridx, right_shred) in pairs:\n",
    "        merged_pair = merge_shred_pair(left_shred, right_shred)\n",
    "        os.makedirs(shred_pairs_dir, exist_ok=True)\n",
    "        merged_pair.save(os.path.join(shred_pairs_dir, to_basename((lidx, ridx))), format=\"BMP\")\n",
    "    pairs_indices = [(lidx, ridx)for (lidx, _), (ridx, _) in pairs]\n",
    "\n",
    "    with open(pair_indices_json_path, 'w') as jf:\n",
    "        json.dump(pairs_indices, jf, indent=4)"
   ]
  },
  {
   "cell_type": "code",
   "execution_count": 15,
   "id": "1d154bcbdec7ab83",
   "metadata": {
    "ExecuteTime": {
     "end_time": "2025-01-24T00:22:39.411359Z",
     "start_time": "2025-01-24T00:22:34.092454Z"
    }
   },
   "outputs": [],
   "source": [
    "shred_pairs = match_shred_pairs(left_shreds, right_shreds)"
   ]
  },
  {
   "cell_type": "code",
   "execution_count": null,
   "id": "1d1abc60-60ec-4841-a020-48ce5686e880",
   "metadata": {},
   "outputs": [],
   "source": [
    "#shred_pairs[0]"
   ]
  },
  {
   "cell_type": "code",
   "execution_count": 16,
   "id": "c16fc48c-bed2-40af-9228-7f15c6e254e4",
   "metadata": {},
   "outputs": [],
   "source": [
    "export_shred_pairs(shred_pairs, shred_pairs_dir=\"./out/shred_pairs/\", pair_indices_json_path=\"./out/shred_pairs.json\")"
   ]
  },
  {
   "cell_type": "code",
   "execution_count": null,
   "id": "cfdbb8c4-20f8-4f7f-ad1a-867fe79f6329",
   "metadata": {},
   "outputs": [],
   "source": []
  }
 ],
 "metadata": {
  "kernelspec": {
   "display_name": "Python 3 (ipykernel)",
   "language": "python",
   "name": "python3"
  },
  "language_info": {
   "codemirror_mode": {
    "name": "ipython",
    "version": 3
   },
   "file_extension": ".py",
   "mimetype": "text/x-python",
   "name": "python",
   "nbconvert_exporter": "python",
   "pygments_lexer": "ipython3",
   "version": "3.10.12"
  }
 },
 "nbformat": 4,
 "nbformat_minor": 5
}
