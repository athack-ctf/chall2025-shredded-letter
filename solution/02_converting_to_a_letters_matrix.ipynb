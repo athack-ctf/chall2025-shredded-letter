{
 "cells": [
  {
   "cell_type": "code",
   "execution_count": 1,
   "id": "ae60ae81-62be-42ca-a89e-83ce08f4755c",
   "metadata": {
    "ExecuteTime": {
     "end_time": "2025-01-30T02:50:51.820135780Z",
     "start_time": "2025-01-30T02:50:51.716136683Z"
    }
   },
   "outputs": [],
   "source": [
    "import json\n",
    "import os\n",
    "from PIL import Image\n",
    "import pytesseract"
   ]
  },
  {
   "cell_type": "code",
   "execution_count": 2,
   "id": "5f089773-0b19-4e7b-8d45-ad5ca7cbc2c9",
   "metadata": {},
   "outputs": [],
   "source": [
    "VERTICAL_LETTERS = 32"
   ]
  },
  {
   "cell_type": "code",
   "execution_count": 3,
   "id": "d72f5feb-8b87-4ce4-b5e2-7429091c6419",
   "metadata": {},
   "outputs": [],
   "source": [
    "def load_columns(directory=\"./out/shred_pairs\"):\n",
    "    images_data = []\n",
    "    # Loop through all files in the directory\n",
    "    for filename in os.listdir(directory):\n",
    "        if filename.endswith(\".bmp\"):\n",
    "            # Extract parts between underscores\n",
    "            parts = filename.split('.')[0].split('_')\n",
    "            assert (len(parts) == 3)\n",
    "            indices = [int(part) for part in parts[1:]]\n",
    "            # Open the image\n",
    "            image_path = os.path.join(directory, filename)\n",
    "            image = Image.open(image_path)\n",
    "            images_data.append((indices, image))\n",
    "\n",
    "    return images_data"
   ]
  },
  {
   "cell_type": "code",
   "execution_count": 4,
   "id": "604645a7-dbfe-480c-82f0-69aa637250ae",
   "metadata": {},
   "outputs": [],
   "source": [
    "columns = load_columns()"
   ]
  },
  {
   "cell_type": "code",
   "execution_count": 5,
   "id": "166a3944-c54c-4147-9568-a8b0fd2c80d6",
   "metadata": {},
   "outputs": [],
   "source": [
    "#columns[0]"
   ]
  },
  {
   "cell_type": "code",
   "execution_count": 6,
   "id": "ac27645e-de76-4152-9e9d-09878934f7bb",
   "metadata": {},
   "outputs": [],
   "source": [
    "# for c in columns:\n",
    "#     if c[0][1] == 189:\n",
    "#         print(c)"
   ]
  },
  {
   "cell_type": "code",
   "execution_count": 7,
   "id": "df186ec0a576f18",
   "metadata": {
    "ExecuteTime": {
     "end_time": "2025-01-24T00:24:37.590996Z",
     "start_time": "2025-01-24T00:24:37.587193Z"
    }
   },
   "outputs": [],
   "source": [
    "def letter_at_idx_from_column(column, index, total_vertical_letters=VERTICAL_LETTERS):\n",
    "    # Ensure the index is valid\n",
    "    if index < 0 or index >= total_vertical_letters:\n",
    "        raise IndexError(\"Index out of range\")\n",
    "\n",
    "    # Get the dimensions of the image\n",
    "    width, height = column.size\n",
    "\n",
    "    # Calculate the height of each sub-image\n",
    "    letter_img_height = height // total_vertical_letters\n",
    "\n",
    "    # Calculate the top and bottom of the sub-image\n",
    "    top = index * letter_img_height\n",
    "    bottom = (index + 1) * letter_img_height if index < total_vertical_letters - 1 else height\n",
    "\n",
    "    # Extract and return the sub-image\n",
    "    letter_img = column.crop((0, top, width, bottom))\n",
    "\n",
    "    # Configure pytesseract to whitelist specific characters\n",
    "    custom_config = r'-c tessedit_char_whitelist=ABCDEFGHIJKLMNOPQRSTUVWXYZ.,\\  --psm 10'\n",
    "\n",
    "    # Use pytesseract to recognize the single letter\n",
    "    text = pytesseract.image_to_string(letter_img, config=custom_config)\n",
    "\n",
    "    # Return the detected text, stripped of any extra whitespace\n",
    "    txt_clean = text.strip().upper()\n",
    "\n",
    "    if txt_clean == \"\":\n",
    "        txt_clean = \" \"\n",
    "\n",
    "    return txt_clean"
   ]
  },
  {
   "cell_type": "code",
   "execution_count": 8,
   "id": "dd655c947e739c9f",
   "metadata": {
    "ExecuteTime": {
     "end_time": "2025-01-24T00:30:33.976469Z",
     "start_time": "2025-01-24T00:30:33.972983Z"
    }
   },
   "outputs": [],
   "source": [
    "def column_to_letters(column):\n",
    "    letters = [letter_at_idx_from_column(column[1], i) for i in range(0, VERTICAL_LETTERS)]\n",
    "    return letters"
   ]
  },
  {
   "cell_type": "code",
   "execution_count": 9,
   "id": "4584df0b57b142d8",
   "metadata": {
    "ExecuteTime": {
     "end_time": "2025-01-24T00:30:34.401008Z",
     "start_time": "2025-01-24T00:30:34.395944Z"
    }
   },
   "outputs": [],
   "source": [
    "def columns_to_matrix_of_letters(columns):\n",
    "    matrix = []\n",
    "    for col in columns:\n",
    "        matrix.append(column_to_letters(col))\n",
    "    return matrix"
   ]
  },
  {
   "cell_type": "code",
   "execution_count": 10,
   "id": "853d727d-ae71-45ea-b062-6c4e91ecc703",
   "metadata": {},
   "outputs": [],
   "source": [
    "letters_matrix = columns_to_matrix_of_letters(columns)"
   ]
  },
  {
   "cell_type": "code",
   "execution_count": 12,
   "id": "8fb05e35863a2e76",
   "metadata": {
    "ExecuteTime": {
     "end_time": "2025-01-24T00:34:26.712222Z",
     "start_time": "2025-01-24T00:34:24.985439Z"
    }
   },
   "outputs": [],
   "source": [
    "with open(\"./out/letters_matrix.json\", 'w') as jf:\n",
    "    json.dump(letters_matrix, jf, indent=4)"
   ]
  },
  {
   "cell_type": "code",
   "execution_count": null,
   "id": "c17f240a-11ae-463a-ae18-b28a2254ba59",
   "metadata": {},
   "outputs": [],
   "source": []
  }
 ],
 "metadata": {
  "kernelspec": {
   "display_name": "Python 3 (ipykernel)",
   "language": "python",
   "name": "python3"
  },
  "language_info": {
   "codemirror_mode": {
    "name": "ipython",
    "version": 3
   },
   "file_extension": ".py",
   "mimetype": "text/x-python",
   "name": "python",
   "nbconvert_exporter": "python",
   "pygments_lexer": "ipython3",
   "version": "3.10.12"
  }
 },
 "nbformat": 4,
 "nbformat_minor": 5
}
